{
  "nbformat": 4,
  "nbformat_minor": 0,
  "metadata": {
    "colab": {
      "provenance": [],
      "authorship_tag": "ABX9TyNHsEWPd0/EiTXA3jGjP5Vr",
      "include_colab_link": true
    },
    "kernelspec": {
      "name": "python3",
      "display_name": "Python 3"
    },
    "language_info": {
      "name": "python"
    }
  },
  "cells": [
    {
      "cell_type": "markdown",
      "metadata": {
        "id": "view-in-github",
        "colab_type": "text"
      },
      "source": [
        "<a href=\"https://colab.research.google.com/github/suryakalakoppaka/Basic-codingg/blob/main/patternss.ipynb\" target=\"_parent\"><img src=\"https://colab.research.google.com/assets/colab-badge.svg\" alt=\"Open In Colab\"/></a>"
      ]
    },
    {
      "cell_type": "code",
      "execution_count": null,
      "metadata": {
        "colab": {
          "base_uri": "https://localhost:8080/"
        },
        "id": "rYJUuc8sf_j_",
        "outputId": "6933cd06-5e65-4a2d-a5f0-a938af26f02e"
      },
      "outputs": [
        {
          "output_type": "stream",
          "name": "stdout",
          "text": [
            "    *\n",
            "    **\n",
            "    ***\n",
            "    ****\n",
            "    *****\n"
          ]
        }
      ],
      "source": [
        "n=5\n",
        "for i in range(n):\n",
        "  for j in range(n-1):\n",
        "    print(\" \",end=\"\")\n",
        "  for j in range(i+1):\n",
        "    print(\"*\",end=\"\")\n",
        "  print()"
      ]
    },
    {
      "cell_type": "code",
      "source": [
        "n=5\n",
        "for i in range(n):\n",
        "  for j in range(n-i):\n",
        "    print(\" \",end=\"\")\n",
        "  for j in range(i+1):\n",
        "    print(\"*\",end=\"\")\n",
        "  for j in range(i):\n",
        "    print(\"*\",end=\"\")\n",
        "  print()"
      ],
      "metadata": {
        "colab": {
          "base_uri": "https://localhost:8080/"
        },
        "id": "eK1YpQXth9iQ",
        "outputId": "2ee5ade7-3998-4704-a840-10a1859f2ea6"
      },
      "execution_count": null,
      "outputs": [
        {
          "output_type": "stream",
          "name": "stdout",
          "text": [
            "     *\n",
            "    ***\n",
            "   *****\n",
            "  *******\n",
            " *********\n"
          ]
        }
      ]
    },
    {
      "cell_type": "code",
      "source": [
        "n=5\n",
        "for i in range(n):\n",
        "  for j in range(n-i):\n",
        "    print(\" \",end=\"\")\n",
        "  for j in range(i+1):\n",
        "    print(\"*\",end=\"\")\n",
        "  for j in range(i):\n",
        "    print(\"*\",end=\"\")\n",
        "  print()\n",
        "for i in range(n-1):\n",
        "  for j in range(i+2):\n",
        "    print(\" \",end=\"\")\n",
        "  for j in range(n-i-1):\n",
        "    print(\"*\",end=\"\")\n",
        "  for j in range(n-i-2):\n",
        "    print(\"*\",end=\"\")\n",
        "  print()\n"
      ],
      "metadata": {
        "id": "fAUVxwy6gBVt",
        "colab": {
          "base_uri": "https://localhost:8080/"
        },
        "outputId": "b1c8dedb-511a-451e-a132-449c64e38c3e"
      },
      "execution_count": 9,
      "outputs": [
        {
          "output_type": "stream",
          "name": "stdout",
          "text": [
            "     *\n",
            "    ***\n",
            "   *****\n",
            "  *******\n",
            " *********\n",
            "  *******\n",
            "   *****\n",
            "    ***\n",
            "     *\n"
          ]
        }
      ]
    }
  ]
}